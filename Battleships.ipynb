{
 "cells": [
  {
   "cell_type": "code",
   "execution_count": 1,
   "id": "a7f8af5e",
   "metadata": {},
   "outputs": [],
   "source": [
    "import pygad\n",
    "import numpy as np\n",
    "import random\n",
    "import pandas as pd\n",
    "import time\n",
    "import math\n",
    "import matplotlib.pyplot as plt\n",
    "from collections import Counter\n",
    "from itertools import chain\n",
    "import random as rd\n",
    "import matplotlib.pyplot as plt"
   ]
  },
  {
   "cell_type": "markdown",
   "id": "5eb56687",
   "metadata": {},
   "source": [
    "# Introduction to Battleship puzzle\n",
    "\n",
    "The goal of Battleship puzzle is to find the location of the battleships hidden in the grid (we will call it board). \n",
    "In this project a battleships are represented by number 0 and empty spaces are represented by number 1. Single battleship can consist of one up to five fields (squares) on the grid. Number of battleships and their length can vary depending on the size of game board, but for the purpouse of this project we will determine them as following:\n",
    "\n",
    "1. Small game boards (6x6) - three single-square, two double-square, one triple-square (10 battleships overall)\n",
    "2. Medium game boards (10x10) - four single-square, three double-square, two triple-square battleships, one quadruple-square (20 battleships overall)\n",
    "3. Big game boards (15x15) - five single-square, four double-square, three triple-square battleships, two quadruple-square, one quintuple-square (35 battleships overall)\n",
    "\n",
    "#### Two battleships cannot touch each other (even diagonally)\n",
    "\n",
    "In some puzzles the there are numbers outside the grid which show the number of cells occupied by battleships on that row/column. We will take that into consideration in second genetic algorithm fitness.\n",
    "\n",
    "\n"
   ]
  },
  {
   "cell_type": "markdown",
   "id": "c43a7b05",
   "metadata": {},
   "source": [
    "### Inputs"
   ]
  },
  {
   "cell_type": "code",
   "execution_count": 2,
   "id": "a0a53a95",
   "metadata": {},
   "outputs": [],
   "source": [
    "#creating inputs: three lists of lists for each board size\n",
    "#0 - ship cell, 1- empty space\n",
    "small_board1 =[[1,1,1,1,1,1],\n",
    "               [1,0,1,0,0,1],\n",
    "               [1,0,1,1,1,1],\n",
    "               [1,1,1,0,1,0],\n",
    "               [0,1,1,1,1,1],\n",
    "               [1,1,0,0,0,1]]\n",
    "\n",
    "small_board2 =[[0,1,1,1,1,1],\n",
    "               [0,1,1,0,0,1],\n",
    "               [0,1,1,1,1,1],\n",
    "               [1,1,0,1,1,0],\n",
    "               [1,1,0,1,1,1],\n",
    "               [0,1,1,1,0,1]]\n",
    "\n",
    "small_board3 =[[0,1,1,0,0,0],\n",
    "               [1,1,1,1,1,1],\n",
    "               [0,1,1,1,1,1],\n",
    "               [0,1,1,0,1,1],\n",
    "               [1,1,1,1,1,0],\n",
    "               [1,1,0,1,1,0]]\n",
    "\n",
    "\n",
    "medium_board1 =[[1,1,1,1,1,1,0,0,1,1],\n",
    "                [0,0,0,1,0,1,1,1,1,1],\n",
    "                [1,1,1,1,1,1,1,1,0,1],\n",
    "                [1,1,1,1,1,1,1,1,0,1],\n",
    "                [1,1,0,1,1,0,1,1,0,1],\n",
    "                [1,1,1,1,1,1,1,1,0,1],\n",
    "                [1,1,1,1,1,1,1,1,1,1],\n",
    "                [0,0,1,1,0,1,1,0,0,1],\n",
    "                [1,1,1,1,0,1,1,1,1,1],\n",
    "                [1,1,1,1,0,1,1,1,0,1]]\n",
    "\n",
    "medium_board2 =[[1,1,1,1,1,1,1,0,0,0],\n",
    "                [1,0,1,1,1,1,1,1,1,1],\n",
    "                [1,1,1,1,1,1,1,1,1,1],\n",
    "                [1,1,1,0,0,0,0,1,0,1],\n",
    "                [1,0,1,1,1,1,1,1,1,1],\n",
    "                [1,1,1,1,1,1,1,1,1,1],\n",
    "                [1,1,0,0,1,1,0,1,1,1],\n",
    "                [1,1,1,1,1,1,0,1,1,1],\n",
    "                [1,0,0,1,1,1,0,1,1,0],\n",
    "                [1,1,1,1,0,1,1,1,1,0]]\n",
    "\n",
    "medium_board3 =[[1,0,1,1,1,1,1,1,1,1],\n",
    "                [1,1,1,0,0,0,0,1,1,1],\n",
    "                [1,1,1,1,1,1,1,1,0,1],\n",
    "                [1,1,1,1,1,1,1,1,1,1],\n",
    "                [1,0,0,0,1,1,1,1,0,1],\n",
    "                [1,1,1,1,1,0,1,1,0,1],\n",
    "                [1,0,1,1,1,1,1,1,1,1],\n",
    "                [1,0,1,1,1,0,1,1,1,1],\n",
    "                [1,1,1,1,1,0,1,1,0,0],\n",
    "                [1,1,0,1,1,0,1,1,1,1]]\n",
    "\n",
    "\n",
    "big_board1 =[[1,1,1,1,1,1,1,1,1,1,1,1,1,1,1],\n",
    "             [1,1,1,1,1,1,1,0,1,1,1,0,0,1,1],\n",
    "             [1,1,1,0,1,1,1,0,1,0,1,1,1,1,1],\n",
    "             [1,1,1,0,1,1,1,0,1,1,1,1,1,1,1],\n",
    "             [1,1,1,0,1,1,1,1,1,1,1,0,0,1,1],\n",
    "             [1,1,1,0,1,1,1,1,1,1,1,1,1,1,1],\n",
    "             [1,1,1,0,1,1,1,1,0,0,0,0,1,1,1],\n",
    "             [1,1,1,1,1,1,1,1,1,1,1,1,1,0,1],\n",
    "             [1,0,1,1,1,1,1,1,1,1,1,0,1,1,1],\n",
    "             [1,1,1,1,0,0,0,0,1,1,1,0,1,1,1],\n",
    "             [1,1,1,1,1,1,1,1,1,1,1,1,1,1,1],\n",
    "             [1,0,0,1,1,1,1,1,1,1,1,1,1,1,1],\n",
    "             [1,1,1,1,1,0,1,1,1,1,0,0,0,1,1],\n",
    "             [1,0,1,1,1,0,1,1,1,1,1,1,1,1,1],\n",
    "             [1,1,1,1,1,0,1,1,0,1,1,1,1,1,1]]\n",
    "\n",
    "big_board2 =[[1,1,1,1,1,0,1,1,1,1,1,1,1,0,1],\n",
    "             [1,1,1,1,1,1,1,0,1,1,1,1,1,1,1],\n",
    "             [1,1,1,1,1,1,1,0,1,1,1,0,1,1,1],\n",
    "             [1,1,0,0,0,1,1,1,1,1,1,0,1,0,0],\n",
    "             [1,1,1,1,1,1,1,1,1,1,1,0,1,1,1],\n",
    "             [1,1,1,1,1,1,1,1,1,1,1,1,1,1,1],\n",
    "             [1,1,1,1,1,1,1,1,0,0,0,0,1,1,1],\n",
    "             [1,1,1,1,1,1,1,1,1,1,1,1,1,1,1],\n",
    "             [1,1,1,1,1,1,0,1,1,1,1,1,1,0,1],\n",
    "             [0,1,1,0,1,1,1,1,1,1,1,1,1,0,1],\n",
    "             [1,1,1,0,1,1,0,0,0,1,1,1,1,1,1],\n",
    "             [1,1,1,0,1,1,1,1,1,1,1,1,1,1,1],\n",
    "             [1,1,1,0,1,1,1,1,1,1,1,1,0,1,1],\n",
    "             [1,1,1,1,1,1,0,0,0,0,0,1,1,1,1],\n",
    "             [0,0,1,1,1,1,1,1,1,1,1,1,1,1,1]]\n",
    "\n",
    "big_board3 =[[0,1,1,1,0,0,0,0,1,1,1,0,0,1,1],\n",
    "             [1,1,1,1,1,1,1,1,1,1,1,1,1,1,0],\n",
    "             [0,1,1,1,1,1,1,1,1,1,1,1,1,1,0],\n",
    "             [1,1,1,1,1,1,1,1,1,1,1,1,1,1,0],\n",
    "             [0,1,1,1,1,1,1,0,1,1,1,1,1,1,1],\n",
    "             [0,1,1,1,1,1,1,1,1,1,1,1,1,0,1],\n",
    "             [0,1,1,1,1,1,1,1,1,1,1,1,1,1,1],\n",
    "             [0,1,1,1,1,1,1,1,1,1,0,0,0,0,1],\n",
    "             [0,1,1,1,1,1,1,1,1,1,1,1,1,1,1],\n",
    "             [1,1,1,1,1,1,1,1,1,1,1,1,1,0,0],\n",
    "             [1,1,1,1,1,1,1,1,1,1,1,1,1,1,1],\n",
    "             [1,1,1,1,1,1,1,1,1,1,1,1,1,0,1],\n",
    "             [0,1,1,1,1,1,1,0,1,1,1,1,1,0,1],\n",
    "             [0,1,1,1,1,1,1,0,1,1,1,1,1,0,1],\n",
    "             [1,1,1,0,0,1,1,0,1,1,0,1,1,1,1]]\n",
    "\n",
    "#creating lists of boards of different size for evaluation purposes\n",
    "small = [small_board1, small_board2, small_board3]   \n",
    "medium = [medium_board1, medium_board2, medium_board3]\n",
    "big = [big_board1, big_board2, big_board3]"
   ]
  },
  {
   "cell_type": "markdown",
   "id": "ab43ba70",
   "metadata": {},
   "source": [
    "# Algorithm 1"
   ]
  },
  {
   "cell_type": "markdown",
   "id": "859292a5",
   "metadata": {},
   "source": [
    "In this approach we want to find solution using the least number of shots possible which equals to number of battleships on the input board. We want the chromosome to represent the coordinates of shots. To achieve this we will be pairing neighbouring genes, so te chromosome ends up being a list of two element tuples. Fitness function punishes for shooting the same coordinate twice or more, and rewards if cell containing ship is shoot but only if it wasn't hit before. The coordinate of succesfull shots are stored in list 'hit' which length is compared to the number of ships. Algorithm found desired solution if those two numbers are equal."
   ]
  },
  {
   "cell_type": "code",
   "execution_count": 3,
   "id": "06d555f3",
   "metadata": {
    "scrolled": false
   },
   "outputs": [],
   "source": [
    "def fitness_func1(solution, solution_idx):\n",
    "    \n",
    "    fitness = 0\n",
    "    hit = [] #creating list which hold ship cells that were hit\n",
    "    \n",
    "    #creating list of indices on the board that we will be shooting to, by zipping genes in pairs\n",
    "    solution = list(map(int,solution)) \n",
    "    solution_index = list(zip(solution[::2],solution[1::2])) \n",
    "\n",
    "    \n",
    "                                                         \n",
    "    if len(set(solution_index)) != len(solution_index): #punishment for shooting in the same coordinate more than once\n",
    "        fitness -=500\n",
    "    \n",
    "\n",
    "    for idx, shoot in enumerate(solution_index):\n",
    "            \n",
    "        if board[shoot[0]][shoot[1]] == 0: #ship cell has been hit\n",
    "                if shoot not in hit: #checking if this ship hasn't been hit before \n",
    "                    hit.append(shoot) #if not we are appending coorrdinate of the ship cell to list 'hit'\n",
    "                    fitness +=200 #adding points  \n",
    "                    \n",
    "\n",
    "        if board[shoot[0]][shoot[1]] == 1: #punishment for if we miss\n",
    "            fitness -= 200\n",
    "            \n",
    "        #checking if all ships have been hit\n",
    "        if len(hit) == ships:\n",
    "            return 10000 #succes!\n",
    "        \n",
    "    \n",
    "    return fitness"
   ]
  },
  {
   "cell_type": "markdown",
   "id": "c541e46b",
   "metadata": {},
   "source": [
    "### Parameters and solution for each board size"
   ]
  },
  {
   "cell_type": "markdown",
   "id": "c892be55",
   "metadata": {},
   "source": [
    "#### Small board 6x6"
   ]
  },
  {
   "cell_type": "code",
   "execution_count": 4,
   "id": "d78bd128",
   "metadata": {},
   "outputs": [
    {
     "name": "stdout",
     "output_type": "stream",
     "text": [
      "Parameters of the best solution : [(3, 3), (4, 0), (5, 2), (3, 5), (1, 4), (5, 3), (2, 1), (1, 3), (5, 4), (1, 1)]\n",
      "Fitness of best solution = 10000\n",
      "Number of generations =  11\n"
     ]
    },
    {
     "data": {
      "image/png": "[encoded data removed]",
      "text/plain": [
       "<Figure size 432x288 with 1 Axes>"
      ]
     },
     "metadata": {
      "needs_background": "light"
     },
     "output_type": "display_data"
    },
    {
     "data": {
      "text/plain": [
       "<matplotlib.collections.PathCollection at 0x23a2d710ee0>"
      ]
     },
     "execution_count": 4,
     "metadata": {},
     "output_type": "execute_result"
    },
    {
     "data": {
      "image/png": "[encoded data removed]",
      "text/plain": [
       "<Figure size 432x288 with 1 Axes>"
      ]
     },
     "metadata": {
      "needs_background": "light"
     },
     "output_type": "display_data"
    }
   ],
   "source": [
    "board = small_board1 #choosing input board\n",
    "\n",
    "########################\n",
    "#genes are x or y coordinates of the board so they can take values from 0 up to length of board-1\n",
    "gene_space = [i for i in range(len(board))]\n",
    "ships = Counter(chain(*board))[0] #number of ship-cells on the input board \n",
    "\n",
    "\n",
    "sol_per_pop = 100\n",
    "num_genes =  ships*2 #number of genes needs to be 2xship-cells because we will be pairing them into coordinates\n",
    "num_parents_mating = int(sol_per_pop * 0.3) #30% of the population\n",
    "num_generations = 70\n",
    "keep_parents = 2\n",
    "parent_selection_type = \"sss\"\n",
    "crossover_type = \"single_point\"\n",
    "mutation_type = \"random\"\n",
    "mutation_percent_genes = 5 #we want only one gene to mutate\n",
    "stop = ['reach_10000'] #stop condition\n",
    "\n",
    "fitness_function = fitness_func1\n",
    "\n",
    "ga_instance = pygad.GA(gene_space=gene_space, num_generations=num_generations, \n",
    "                       num_parents_mating=num_parents_mating, fitness_func=fitness_function,\n",
    "                       sol_per_pop=sol_per_pop, num_genes=num_genes, \n",
    "                       parent_selection_type=parent_selection_type, keep_parents=keep_parents, \n",
    "                       crossover_type=crossover_type, mutation_type=mutation_type,\n",
    "                       mutation_percent_genes=mutation_percent_genes,stop_criteria = stop)\n",
    "\n",
    "ga_instance.run()\n",
    "\n",
    "\n",
    "solution, solution_fitness, solution_idx = ga_instance.best_solution()\n",
    "\n",
    "#formating solution to show coordinates\n",
    "solution = list(map(int,solution))\n",
    "solution_index = list(zip(solution[::2],solution[1::2]))\n",
    "\n",
    "print(\"Parameters of the best solution : {solution}\".format(solution=solution_index))\n",
    "print(\"Fitness of best solution = {solution_fitness}\".format(solution_fitness=solution_fitness))\n",
    "print(\"Number of generations = \", ga_instance.generations_completed)\n",
    "\n",
    "ga_instance.plot_fitness()\n",
    "\n",
    "#plotting solved board\n",
    "#purple - ship\n",
    "#blue dot - shot\n",
    "coords = [list(t) for t in zip(*solution_index)]\n",
    "plt.imshow(board)\n",
    "plt.scatter(coords[1], coords[0])"
   ]
  },
  {
   "cell_type": "markdown",
   "id": "7d8b0839",
   "metadata": {},
   "source": [
    "#### Medium board 10x10"
   ]
  },
  {
   "cell_type": "code",
   "execution_count": 5,
   "id": "b2a9c695",
   "metadata": {},
   "outputs": [
    {
     "name": "stdout",
     "output_type": "stream",
     "text": [
      "Parameters of the best solution : [(9, 4), (9, 8), (7, 7), (7, 4), (4, 2), (1, 2), (4, 8), (1, 4), (2, 8), (8, 4), (7, 1), (7, 0), (3, 8), (0, 7), (0, 6), (1, 1), (7, 8), (1, 0), (4, 5), (5, 8)]\n",
      "Fitness of best solution = 10000\n",
      "Number of generations =  86\n"
     ]
    },
    {
     "data": {
      "image/png": "[encoded data removed]",
      "text/plain": [
       "<Figure size 432x288 with 1 Axes>"
      ]
     },
     "metadata": {
      "needs_background": "light"
     },
     "output_type": "display_data"
    },
    {
     "data": {
      "text/plain": [
       "<matplotlib.collections.PathCollection at 0x23a2e781070>"
      ]
     },
     "execution_count": 5,
     "metadata": {},
     "output_type": "execute_result"
    },
    {
     "data": {
      "image/png": "[encoded data removed]",
      "text/plain": [
       "<Figure size 432x288 with 1 Axes>"
      ]
     },
     "metadata": {
      "needs_background": "light"
     },
     "output_type": "display_data"
    }
   ],
   "source": [
    "board = medium_board1\n",
    "\n",
    "########################\n",
    "gene_space = [i for i in range(len(board))]\n",
    "ships = Counter(chain(*board))[0]\n",
    "\n",
    "\n",
    "sol_per_pop = 200 #increased for efficiency\n",
    "num_genes =  ships*2\n",
    "num_parents_mating = int(sol_per_pop * 0.3) \n",
    "num_generations = 100 #increased for efficiency\n",
    "keep_parents = 2\n",
    "parent_selection_type = \"sss\"\n",
    "crossover_type = \"single_point\"\n",
    "mutation_type = \"random\"\n",
    "mutation_percent_genes = 3 #we want only one gene to mutate\n",
    "stop = ['reach_10000']\n",
    "\n",
    "fitness_function = fitness_func1\n",
    "\n",
    "ga_instance = pygad.GA(gene_space=gene_space, num_generations=num_generations, \n",
    "                       num_parents_mating=num_parents_mating, fitness_func=fitness_function,\n",
    "                       sol_per_pop=sol_per_pop, num_genes=num_genes, \n",
    "                       parent_selection_type=parent_selection_type, keep_parents=keep_parents, \n",
    "                       crossover_type=crossover_type, mutation_type=mutation_type,\n",
    "                       mutation_percent_genes=mutation_percent_genes,stop_criteria = stop)\n",
    "\n",
    "ga_instance.run()\n",
    "\n",
    "\n",
    "solution, solution_fitness, solution_idx = ga_instance.best_solution()\n",
    "\n",
    "\n",
    "solution = list(map(int,solution))\n",
    "solution_index = list(zip(solution[::2],solution[1::2]))\n",
    "\n",
    "print(\"Parameters of the best solution : {solution}\".format(solution=solution_index))\n",
    "print(\"Fitness of best solution = {solution_fitness}\".format(solution_fitness=solution_fitness))\n",
    "print(\"Number of generations = \", ga_instance.generations_completed)\n",
    "\n",
    "ga_instance.plot_fitness()\n",
    "\n",
    "\n",
    "coords = [list(t) for t in zip(*solution_index)]\n",
    "plt.imshow(board)\n",
    "plt.scatter(coords[1], coords[0])"
   ]
  },
  {
   "cell_type": "markdown",
   "id": "9028f3dd",
   "metadata": {},
   "source": [
    "#### Big board 15x15"
   ]
  },
  {
   "cell_type": "code",
   "execution_count": 6,
   "id": "855f1ca6",
   "metadata": {},
   "outputs": [
    {
     "name": "stdout",
     "output_type": "stream",
     "text": [
      "Parameters of the best solution : [(2, 3), (14, 5), (13, 1), (9, 6), (7, 13), (6, 11), (12, 10), (6, 9), (6, 8), (3, 7), (1, 12), (12, 11), (5, 3), (12, 12), (4, 11), (4, 3), (9, 11), (1, 11), (13, 5), (9, 5), (9, 7), (4, 12), (11, 2), (3, 3), (12, 5), (6, 10), (2, 9), (2, 7), (9, 4), (8, 1), (14, 8), (11, 1), (8, 11), (1, 7), (6, 3)]\n",
      "Fitness of best solution = 10000\n",
      "Number of generations =  170\n"
     ]
    },
    {
     "data": {
      "image/png": "[encoded data removed]",
      "text/plain": [
       "<Figure size 432x288 with 1 Axes>"
      ]
     },
     "metadata": {
      "needs_background": "light"
     },
     "output_type": "display_data"
    },
    {
     "data": {
      "text/plain": [
       "<matplotlib.collections.PathCollection at 0x23a2e7daa60>"
      ]
     },
     "execution_count": 6,
     "metadata": {},
     "output_type": "execute_result"
    },
    {
     "data": {
      "image/png": "[encoded data removed]",
      "text/plain": [
       "<Figure size 432x288 with 1 Axes>"
      ]
     },
     "metadata": {
      "needs_background": "light"
     },
     "output_type": "display_data"
    }
   ],
   "source": [
    "board = big_board1 \n",
    "\n",
    "########################\n",
    "gene_space = [i for i in range(len(board))]\n",
    "ships = Counter(chain(*board))[0] \n",
    "\n",
    "\n",
    "sol_per_pop = 350 #increased for efficiency\n",
    "num_genes =  ships*2\n",
    "num_parents_mating = int(sol_per_pop * 0.3)\n",
    "num_generations = 200 #increased for efficiency\n",
    "keep_parents = 2\n",
    "parent_selection_type = \"sss\"\n",
    "crossover_type = \"single_point\"\n",
    "mutation_type = \"random\"\n",
    "mutation_percent_genes = 2 #we want only one gene to mutate\n",
    "stop = ['reach_10000']\n",
    "\n",
    "fitness_function = fitness_func1\n",
    "\n",
    "ga_instance = pygad.GA(gene_space=gene_space, num_generations=num_generations, \n",
    "                       num_parents_mating=num_parents_mating, fitness_func=fitness_function,\n",
    "                       sol_per_pop=sol_per_pop, num_genes=num_genes, \n",
    "                       parent_selection_type=parent_selection_type, keep_parents=keep_parents, \n",
    "                       crossover_type=crossover_type, mutation_type=mutation_type,\n",
    "                       mutation_percent_genes=mutation_percent_genes,stop_criteria = stop)\n",
    "\n",
    "ga_instance.run()\n",
    "\n",
    "\n",
    "solution, solution_fitness, solution_idx = ga_instance.best_solution()\n",
    "\n",
    "\n",
    "solution = list(map(int,solution))\n",
    "solution_index = list(zip(solution[::2],solution[1::2]))\n",
    "\n",
    "print(\"Parameters of the best solution : {solution}\".format(solution=solution_index))\n",
    "print(\"Fitness of best solution = {solution_fitness}\".format(solution_fitness=solution_fitness))\n",
    "print(\"Number of generations = \", ga_instance.generations_completed)\n",
    "\n",
    "ga_instance.plot_fitness()\n",
    "\n",
    "\n",
    "coords = [list(t) for t in zip(*solution_index)]\n",
    "plt.imshow(board)\n",
    "plt.scatter(coords[1], coords[0])"
   ]
  },
  {
   "cell_type": "markdown",
   "id": "d4d30f9a",
   "metadata": {},
   "source": [
    "## Testing"
   ]
  },
  {
   "cell_type": "markdown",
   "id": "d4b57145",
   "metadata": {},
   "source": [
    "#### Small board 6x6"
   ]
  },
  {
   "cell_type": "code",
   "execution_count": 7,
   "id": "36aca32a",
   "metadata": {},
   "outputs": [
    {
     "name": "stdout",
     "output_type": "stream",
     "text": [
      "Efficiency: 100.00%\n",
      "Average time: 0.110 sekund\n"
     ]
    }
   ],
   "source": [
    "Sscore = 0\n",
    "Stime_score = []\n",
    "\n",
    "for i in range(100):\n",
    "    start_time = time.time()\n",
    "    \n",
    "    random_board = rd.randint(0,2)\n",
    "    board = small[random_board]\n",
    "\n",
    "    ########################\n",
    "    gene_space = [i for i in range(6)]\n",
    "    ships = 10\n",
    "\n",
    "    sol_per_pop = 100\n",
    "    num_genes =  ships*2 \n",
    "    num_parents_mating = int(sol_per_pop * 0.3)\n",
    "    num_generations = 70\n",
    "    keep_parents = 2\n",
    "    parent_selection_type = \"sss\"\n",
    "    crossover_type = \"single_point\"\n",
    "    mutation_type = \"random\"\n",
    "    mutation_percent_genes = 5\n",
    "    stop = ['reach_10000']\n",
    "    \n",
    "    fitness_function = fitness_func1 \n",
    "    \n",
    "    ga_instance = pygad.GA(gene_space=gene_space, num_generations=num_generations, \n",
    "                       num_parents_mating=num_parents_mating, fitness_func=fitness_function,\n",
    "                       sol_per_pop=sol_per_pop, num_genes=num_genes, \n",
    "                       parent_selection_type=parent_selection_type, keep_parents=keep_parents, \n",
    "                       crossover_type=crossover_type, mutation_type=mutation_type,\n",
    "                       mutation_percent_genes=mutation_percent_genes,stop_criteria = stop)\n",
    "\n",
    "    \n",
    "    ga_instance.run()\n",
    "    end_time = time.time()\n",
    "\n",
    "    solution, solution_fitness, solution_idx = ga_instance.best_solution()\n",
    "    if solution_fitness == 10000:\n",
    "        Sscore +=1\n",
    "        Stime_score.append(end_time-start_time)\n",
    "\n",
    "\n",
    "print(\"Efficiency: {:.2f}%\".format(Sscore))\n",
    "print(\"Average time: {:.3f} sekund\".format(np.mean(Stime_score)))"
   ]
  },
  {
   "cell_type": "markdown",
   "id": "696dd085",
   "metadata": {},
   "source": [
    "#### Medium board 10x10"
   ]
  },
  {
   "cell_type": "code",
   "execution_count": 8,
   "id": "b6e40a5d",
   "metadata": {},
   "outputs": [
    {
     "name": "stdout",
     "output_type": "stream",
     "text": [
      "Efficiency: 98.00%\n",
      "Average time: 0.773 sekund\n"
     ]
    }
   ],
   "source": [
    "Mscore1 = 0\n",
    "Mtime_score1 = []\n",
    "\n",
    "for i in range(100):\n",
    "    start_time = time.time()\n",
    "    \n",
    "    random_board = rd.randint(0,2)\n",
    "    board = medium[random_board]\n",
    "\n",
    "    ########################\n",
    "    gene_space = [i for i in range(10)]\n",
    "    ships = 20\n",
    "\n",
    "    sol_per_pop = 200\n",
    "    num_genes =  ships*2\n",
    "    num_parents_mating = int(sol_per_pop * 0.3)\n",
    "    num_generations = 100\n",
    "    keep_parents = 2\n",
    "    parent_selection_type = \"sss\"\n",
    "    crossover_type = \"single_point\"\n",
    "    mutation_type = \"random\"\n",
    "    mutation_percent_genes = 3\n",
    "    stop = ['reach_10000']\n",
    "    \n",
    "\n",
    "    fitness_function = fitness_func1 \n",
    "    \n",
    "    ga_instance = pygad.GA(gene_space=gene_space, num_generations=num_generations, \n",
    "                       num_parents_mating=num_parents_mating, fitness_func=fitness_function,\n",
    "                       sol_per_pop=sol_per_pop, num_genes=num_genes, \n",
    "                       parent_selection_type=parent_selection_type, keep_parents=keep_parents, \n",
    "                       crossover_type=crossover_type, mutation_type=mutation_type,\n",
    "                       mutation_percent_genes=mutation_percent_genes,stop_criteria = stop)\n",
    "\n",
    "    \n",
    "    ga_instance.run()\n",
    "    end_time = time.time()\n",
    "    \n",
    "    solution, solution_fitness, solution_idx = ga_instance.best_solution()\n",
    "\n",
    "    if solution_fitness == 10000:\n",
    "        Mscore1 +=1\n",
    "        Mtime_score1.append(end_time-start_time)\n",
    "\n",
    "\n",
    "print(\"Efficiency: {:.2f}%\".format(Mscore1))\n",
    "print(\"Average time: {:.3f} sekund\".format(np.mean(Mtime_score1)))"
   ]
  },
  {
   "cell_type": "markdown",
   "id": "9299269b",
   "metadata": {},
   "source": [
    "#### Big board 15x15"
   ]
  },
  {
   "cell_type": "code",
   "execution_count": 9,
   "id": "e99de778",
   "metadata": {},
   "outputs": [
    {
     "name": "stdout",
     "output_type": "stream",
     "text": [
      "Efficiency: 94.00%\n",
      "Average time: 4.106 sekund\n"
     ]
    }
   ],
   "source": [
    "Bscore1 = 0\n",
    "Btime_score1 = []\n",
    "\n",
    "for i in range(100):\n",
    "    start_time = time.time()\n",
    "    \n",
    "    random_board = rd.randint(0,2)\n",
    "    board = big[random_board]\n",
    "\n",
    "    ########################\n",
    "    gene_space = [i for i in range(15)]\n",
    "    ships = 35\n",
    "    \n",
    "    sol_per_pop = 350\n",
    "    num_genes =  ships*2\n",
    "    num_parents_mating = int(sol_per_pop * 0.3)\n",
    "    num_generations = 200\n",
    "    keep_parents = 2\n",
    "    parent_selection_type = \"sss\"\n",
    "    crossover_type = \"single_point\"\n",
    "    mutation_type = \"random\"\n",
    "    mutation_percent_genes = 2\n",
    "    stop = ['reach_10000']\n",
    "    \n",
    "    fitness_function = fitness_func1 \n",
    "    \n",
    "    ga_instance = pygad.GA(gene_space=gene_space, num_generations=num_generations, \n",
    "                       num_parents_mating=num_parents_mating, fitness_func=fitness_function,\n",
    "                       sol_per_pop=sol_per_pop, num_genes=num_genes, \n",
    "                       parent_selection_type=parent_selection_type, keep_parents=keep_parents, \n",
    "                       crossover_type=crossover_type, mutation_type=mutation_type,\n",
    "                       mutation_percent_genes=mutation_percent_genes,stop_criteria = stop)\n",
    "\n",
    "    \n",
    "    ga_instance.run()\n",
    "    end_time = time.time()\n",
    "\n",
    "    solution, solution_fitness, solution_idx = ga_instance.best_solution()\n",
    "\n",
    "    if solution_fitness == 10000:\n",
    "        Bscore1 +=1\n",
    "        Btime_score1.append(end_time-start_time)\n",
    "\n",
    "\n",
    "print(\"Efficiency: {:.2f}%\".format(Bscore1))\n",
    "print(\"Average time: {:.3f} sekund\".format(np.mean(Btime_score1)))"
   ]
  },
  {
   "cell_type": "markdown",
   "id": "dd52ddb7",
   "metadata": {},
   "source": [
    "## Results:"
   ]
  },
  {
   "cell_type": "markdown",
   "id": "a985d8d4",
   "metadata": {},
   "source": [
    "\n",
    "|Size   | Efficiency  | Time     |\n",
    "|------:|:------------|:---------|\n",
    "| 6x6   | 100.00%     | 0.110s   |\n",
    "| 10x10 | 98.00%      | 0.773s   |\n",
    "| 15x15 | 94.00%      | 4.106s   |"
   ]
  },
  {
   "cell_type": "code",
   "execution_count": 14,
   "id": "187f4970",
   "metadata": {},
   "outputs": [
    {
     "data": {
      "image/png": "[encoded data removed]",
      "text/plain": [
       "<Figure size 432x288 with 1 Axes>"
      ]
     },
     "metadata": {
      "needs_background": "light"
     },
     "output_type": "display_data"
    }
   ],
   "source": [
    "size = ['6x6', '10x10', '15x15']\n",
    "score1 = [1, 0.98, 0.94] #efficiency presented as fraction\n",
    "time1 = [0.110, 0.773, 4.106] #time\n",
    "\n",
    "plt.plot(size, score1, label='Efficiency')\n",
    "plt.plot(size, time1, label='Time')\n",
    "plt.xlabel('Board size')\n",
    "plt.ylabel('Value')\n",
    "plt.title('Efficiency and time depending on board size')\n",
    "plt.legend()\n",
    "plt.show()"
   ]
  },
  {
   "cell_type": "markdown",
   "id": "0222b3ee",
   "metadata": {},
   "source": [
    "This genetic algorithm works great. Solution is found almost every time even for the biggest input. As expected, time of solving increases with board size, however average of 4s for 15x15 board is satisfying outcome. "
   ]
  },
  {
   "cell_type": "markdown",
   "id": "cf9938d4",
   "metadata": {},
   "source": [
    "# Algorithm 2"
   ]
  },
  {
   "cell_type": "markdown",
   "id": "905b89b2",
   "metadata": {},
   "source": [
    "Just as before, we want to find solution in the least shots possible, but this time chromosome is representing entire game board containing values 2 or 1 that mean respectively shot and no shot (now we don't need to worry about shooting in the same place more than once). Unlike before this approach includes help in form of two list that contain number of remaining ship cells in each row or column. We will also give negative points for shooting diagonaly from previously sunken ship. (Ships cannot touch each other)"
   ]
  },
  {
   "cell_type": "code",
   "execution_count": 16,
   "id": "0971a711",
   "metadata": {},
   "outputs": [],
   "source": [
    "#Helper functions\n",
    "\n",
    "#Extracting elements with the same index from each list (columns)\n",
    "def Extract(lst, idx):\n",
    "    return list(list(zip(*lst))[idx])\n",
    "\n",
    "#Dividing list into n-sized chunks\n",
    "def chunks(lst, n):\n",
    "    for i in range(0, len(lst), n):\n",
    "        yield lst[i:i + n]"
   ]
  },
  {
   "cell_type": "code",
   "execution_count": 17,
   "id": "372ac2a1",
   "metadata": {},
   "outputs": [],
   "source": [
    "def fitness_func2(solution, solution_idx):\n",
    "    \n",
    "    #creating two lists containing number of cells occupied by battleships on each row/column\n",
    "    remaining_col = []\n",
    "    remaining_row = []\n",
    "    for i in range(len(board)):\n",
    "        col = Extract(board, i)\n",
    "        remaining_col.append(Counter(col)[0])\n",
    "    for row in board:\n",
    "        remaining_row.append(Counter(row)[0])\n",
    "\n",
    "    \n",
    "    fitness = 0\n",
    "    hit = 0\n",
    "    \n",
    "    #dividing chromosome into list of lists representing board\n",
    "    solution = list(map(int,solution))\n",
    "    solution_board = list(chunks(solution, len(board)))\n",
    "    \n",
    "    #calculating number of shots\n",
    "    shoots = Counter(chain(*solution_board))[2]\n",
    "    \n",
    "    \n",
    "    \n",
    "    if shoots == ships: #points if number of shots equal number of battleships cells\n",
    "        fitness += 200\n",
    "\n",
    "\n",
    "    #iterating through entire board   \n",
    "    for idx_row, row in enumerate(solution_board):\n",
    "        for idx, num in enumerate(row):\n",
    "            \n",
    "            \n",
    "            if shoots < ships: #break if we have less shots than ship cells (solution woldn't be found then)\n",
    "                break \n",
    "            \n",
    "\n",
    "            if num == 2:\n",
    "                \n",
    "                #points for shooting in column or row with number of ships more than 0\n",
    "                if remaining_row[idx_row] > 0 and remaining_col[idx] > 0: \n",
    "                    fitness += 50\n",
    "\n",
    "                    \n",
    "                if board[idx_row][idx] == 0: #ship cell hit\n",
    "                    fitness += 200\n",
    "                    hit += 1\n",
    "                    remaining_row[idx_row] -=1 #subtracting one from list of remaining ships in column and row\n",
    "                    remaining_col[idx] -=1\n",
    "                    \n",
    "                    #if we hit a cell with ship we can be sure that there are no ships in diagonal position \n",
    "                    #therefore we need to check if we shoot in one of the diagonal cells\n",
    "                    diagonals = [[idx_row+1,idx+1],[idx_row+1,idx-1],[idx_row-1,idx-1],[idx_row-1,idx+1]] \n",
    "                    \n",
    "                    #punishment for shooting in diagonal cell\n",
    "                    for diag in diagonals:\n",
    "                        try:\n",
    "                            if solution_board[diag[0]][diag[1]] == 2:\n",
    "                                fitness -=150\n",
    "                        except IndexError:\n",
    "                            pass\n",
    "                    \n",
    "                    \n",
    "                            \n",
    "                else: #punishment for miss\n",
    "                    fitness -= 200\n",
    "                \n",
    "            \n",
    "        if hit == ships and shoots == ships: #checking if we hit all ships in the least amount of shots\n",
    "            return 15000 #success!\n",
    "        \n",
    "    \n",
    "    return fitness"
   ]
  },
  {
   "cell_type": "markdown",
   "id": "8793fe00",
   "metadata": {},
   "source": [
    "### Parameters and solution for each board size"
   ]
  },
  {
   "cell_type": "markdown",
   "id": "60117d3d",
   "metadata": {},
   "source": [
    "#### Small board 6x6"
   ]
  },
  {
   "cell_type": "code",
   "execution_count": 18,
   "id": "4d5913e4",
   "metadata": {},
   "outputs": [
    {
     "name": "stdout",
     "output_type": "stream",
     "text": [
      "Parameters of the best solution :\n",
      " [[2 1 1 1 1 1]\n",
      " [2 1 1 2 2 1]\n",
      " [2 1 1 1 1 1]\n",
      " [1 1 2 1 1 2]\n",
      " [1 1 2 1 1 1]\n",
      " [2 1 1 1 2 1]]\n",
      "Fitness of best solution = 15000\n",
      "Number of generations =  11\n"
     ]
    },
    {
     "data": {
      "image/png": "[encoded data removed]",
      "text/plain": [
       "<Figure size 432x288 with 1 Axes>"
      ]
     },
     "metadata": {
      "needs_background": "light"
     },
     "output_type": "display_data"
    },
    {
     "data": {
      "text/plain": [
       "<matplotlib.collections.PathCollection at 0x23a30a62cd0>"
      ]
     },
     "execution_count": 18,
     "metadata": {},
     "output_type": "execute_result"
    },
    {
     "data": {
      "image/png": "[encoded data removed]",
      "text/plain": [
       "<Figure size 432x288 with 1 Axes>"
      ]
     },
     "metadata": {
      "needs_background": "light"
     },
     "output_type": "display_data"
    }
   ],
   "source": [
    "board = small_board2\n",
    "\n",
    "\n",
    "########################\n",
    "\n",
    "gene_space = [2,1] #2 - shot, 1 - no shot\n",
    "ships = Counter(chain(*board))[0] #number of ships\n",
    "\n",
    "        \n",
    "sol_per_pop = 100\n",
    "num_genes =  len(board)**2 #chromosome is a representation of board so there need to be the same number of genes as cells\n",
    "num_parents_mating = int(sol_per_pop * 0.3)\n",
    "num_generations = 50\n",
    "keep_parents = 2\n",
    "parent_selection_type = \"sss\"\n",
    "crossover_type = \"scattered\"\n",
    "mutation_type = \"random\"\n",
    "mutation_percent_genes = 3 #only one gene to mutate\n",
    "stop = ['reach_15000']\n",
    "\n",
    "fitness_function = fitness_func2         \n",
    "            \n",
    "\n",
    "ga_instance = pygad.GA(gene_space=gene_space, num_generations=num_generations, \n",
    "                       num_parents_mating=num_parents_mating, fitness_func=fitness_function,\n",
    "                       sol_per_pop=sol_per_pop, num_genes=num_genes, \n",
    "                       parent_selection_type=parent_selection_type, keep_parents=keep_parents, \n",
    "                       crossover_type=crossover_type, mutation_type=mutation_type,\n",
    "                       mutation_percent_genes=mutation_percent_genes,stop_criteria = stop)\n",
    "\n",
    "\n",
    "ga_instance.run()\n",
    "\n",
    "\n",
    "solution, solution_fitness, solution_idx = ga_instance.best_solution()\n",
    "\n",
    "#formating to show solved board \n",
    "solution = list(map(int,solution))\n",
    "solution = np.array(list(chunks(solution,len(board))))\n",
    "\n",
    "print(\"Parameters of the best solution :\\n {solution}\".format(solution=solution))\n",
    "print(\"Fitness of best solution = {solution_fitness}\".format(solution_fitness=solution_fitness))\n",
    "print(\"Number of generations = \", ga_instance.generations_completed)\n",
    "\n",
    "ga_instance.plot_fitness()\n",
    "\n",
    "#plotting solved board\n",
    "shoots = []\n",
    "for i,lst in enumerate(solution):\n",
    "    for j,shoot in enumerate(lst):\n",
    "        if shoot == 2:\n",
    "            shoots.append((i,j))\n",
    "            \n",
    "coords = [list(t) for t in zip(*shoots)]\n",
    "plt.imshow(board)\n",
    "plt.scatter(coords[1],coords[0])"
   ]
  },
  {
   "cell_type": "markdown",
   "id": "b6e80224",
   "metadata": {},
   "source": [
    "#### Medium board 10x10"
   ]
  },
  {
   "cell_type": "code",
   "execution_count": 19,
   "id": "30b6d451",
   "metadata": {},
   "outputs": [
    {
     "name": "stdout",
     "output_type": "stream",
     "text": [
      "Parameters of the best solution :\n",
      " [[1 1 1 1 1 1 1 2 2 2]\n",
      " [1 2 1 1 1 1 1 1 1 1]\n",
      " [1 1 1 1 1 1 1 1 1 1]\n",
      " [1 1 1 2 2 2 2 1 2 1]\n",
      " [1 2 1 1 1 1 1 1 1 1]\n",
      " [1 1 1 1 1 1 1 1 1 1]\n",
      " [1 1 2 2 1 1 2 1 1 1]\n",
      " [1 1 1 1 1 1 2 1 1 1]\n",
      " [1 2 2 1 1 1 2 1 1 2]\n",
      " [1 1 1 1 2 1 1 1 1 2]]\n",
      "Fitness of best solution = 15000\n",
      "Number of generations =  22\n"
     ]
    },
    {
     "data": {
      "image/png": "[encoded data removed]",
      "text/plain": [
       "<Figure size 432x288 with 1 Axes>"
      ]
     },
     "metadata": {
      "needs_background": "light"
     },
     "output_type": "display_data"
    },
    {
     "data": {
      "text/plain": [
       "<matplotlib.collections.PathCollection at 0x23a30b2e880>"
      ]
     },
     "execution_count": 19,
     "metadata": {},
     "output_type": "execute_result"
    },
    {
     "data": {
      "image/png": "[encoded data removed]",
      "text/plain": [
       "<Figure size 432x288 with 1 Axes>"
      ]
     },
     "metadata": {
      "needs_background": "light"
     },
     "output_type": "display_data"
    }
   ],
   "source": [
    "board = medium_board2\n",
    "\n",
    "\n",
    "########################\n",
    "\n",
    "gene_space = [2,1]\n",
    "ships = Counter(chain(*board))[0] \n",
    "\n",
    "        \n",
    "sol_per_pop = 120\n",
    "num_genes =  len(board)**2 \n",
    "num_parents_mating = int(sol_per_pop * 0.3)\n",
    "num_generations = 100\n",
    "keep_parents = 2\n",
    "parent_selection_type = \"sss\"\n",
    "crossover_type = \"scattered\"\n",
    "mutation_type = \"random\"\n",
    "mutation_percent_genes = 1\n",
    "stop = ['reach_15000']\n",
    "\n",
    "fitness_function = fitness_func2         \n",
    "            \n",
    "\n",
    "ga_instance = pygad.GA(gene_space=gene_space, num_generations=num_generations, \n",
    "                       num_parents_mating=num_parents_mating, fitness_func=fitness_function,\n",
    "                       sol_per_pop=sol_per_pop, num_genes=num_genes, \n",
    "                       parent_selection_type=parent_selection_type, keep_parents=keep_parents, \n",
    "                       crossover_type=crossover_type, mutation_type=mutation_type,\n",
    "                       mutation_percent_genes=mutation_percent_genes,stop_criteria = stop)\n",
    "\n",
    "\n",
    "ga_instance.run()\n",
    "\n",
    "\n",
    "solution, solution_fitness, solution_idx = ga_instance.best_solution()\n",
    "\n",
    "#formating to show solved board \n",
    "solution = list(map(int,solution))\n",
    "solution = np.array(list(chunks(solution,len(board))))\n",
    "\n",
    "print(\"Parameters of the best solution :\\n {solution}\".format(solution=solution))\n",
    "print(\"Fitness of best solution = {solution_fitness}\".format(solution_fitness=solution_fitness))\n",
    "print(\"Number of generations = \", ga_instance.generations_completed)\n",
    "\n",
    "ga_instance.plot_fitness()\n",
    "\n",
    "#plotting solved board\n",
    "shoots = []\n",
    "for i,lst in enumerate(solution):\n",
    "    for j,shoot in enumerate(lst):\n",
    "        if shoot == 2:\n",
    "            shoots.append((i,j))\n",
    "            \n",
    "coords = [list(t) for t in zip(*shoots)]\n",
    "plt.imshow(board)\n",
    "plt.scatter(coords[1],coords[0])"
   ]
  },
  {
   "cell_type": "markdown",
   "id": "d7beb007",
   "metadata": {},
   "source": [
    "#### Big board 15x15"
   ]
  },
  {
   "cell_type": "code",
   "execution_count": 21,
   "id": "40f16f86",
   "metadata": {},
   "outputs": [
    {
     "name": "stdout",
     "output_type": "stream",
     "text": [
      "Parameters of the best solution :\n",
      " [[1 1 1 1 1 2 1 1 1 1 1 1 1 2 1]\n",
      " [1 1 1 1 1 1 1 2 1 1 1 1 1 1 1]\n",
      " [1 1 1 1 1 1 1 2 1 1 1 2 1 1 1]\n",
      " [1 1 2 2 2 1 1 1 1 1 1 2 1 2 2]\n",
      " [1 1 1 1 1 1 1 1 1 1 1 2 1 1 1]\n",
      " [1 1 1 1 1 1 1 1 1 1 1 1 1 1 1]\n",
      " [1 1 1 1 1 1 1 1 2 2 2 2 1 1 1]\n",
      " [1 1 1 1 1 1 1 1 1 1 1 1 1 1 1]\n",
      " [1 1 1 1 1 1 2 1 1 1 1 1 1 2 1]\n",
      " [2 1 1 2 1 1 1 1 1 1 1 1 1 2 1]\n",
      " [1 1 1 2 1 1 2 2 2 1 1 1 1 1 1]\n",
      " [1 1 1 2 1 1 1 1 1 1 1 1 1 1 1]\n",
      " [1 1 1 2 1 1 1 1 1 1 1 1 2 1 1]\n",
      " [1 1 1 1 1 1 2 2 2 2 2 1 1 1 1]\n",
      " [2 2 1 1 1 1 1 1 1 1 1 1 1 1 1]]\n",
      "Fitness of best solution = 15000\n",
      "Number of generations =  22\n"
     ]
    },
    {
     "data": {
      "image/png": "[encoded data removed]",
      "text/plain": [
       "<Figure size 432x288 with 1 Axes>"
      ]
     },
     "metadata": {
      "needs_background": "light"
     },
     "output_type": "display_data"
    },
    {
     "data": {
      "text/plain": [
       "<matplotlib.collections.PathCollection at 0x23a30b6be50>"
      ]
     },
     "execution_count": 21,
     "metadata": {},
     "output_type": "execute_result"
    },
    {
     "data": {
      "image/png": "[encoded data removed]",
      "text/plain": [
       "<Figure size 432x288 with 1 Axes>"
      ]
     },
     "metadata": {
      "needs_background": "light"
     },
     "output_type": "display_data"
    }
   ],
   "source": [
    "board = big_board2\n",
    "\n",
    "\n",
    "########################\n",
    "\n",
    "gene_space = [2,1]\n",
    "ships = Counter(chain(*board))[0]\n",
    "\n",
    "        \n",
    "sol_per_pop = 450\n",
    "num_genes =  len(board)**2 \n",
    "num_parents_mating = int(sol_per_pop * 0.3)\n",
    "num_generations = 200\n",
    "keep_parents = 2\n",
    "parent_selection_type = \"sss\"\n",
    "crossover_type = \"scattered\"\n",
    "mutation_type = \"swap\"\n",
    "mutation_percent_genes = 1 \n",
    "stop = ['reach_15000']\n",
    "\n",
    "fitness_function = fitness_func2         \n",
    "            \n",
    "\n",
    "ga_instance = pygad.GA(gene_space=gene_space, num_generations=num_generations, \n",
    "                       num_parents_mating=num_parents_mating, fitness_func=fitness_function,\n",
    "                       sol_per_pop=sol_per_pop, num_genes=num_genes, \n",
    "                       parent_selection_type=parent_selection_type, keep_parents=keep_parents, \n",
    "                       crossover_type=crossover_type, mutation_type=mutation_type,\n",
    "                       mutation_percent_genes=mutation_percent_genes,stop_criteria = stop)\n",
    "\n",
    "\n",
    "ga_instance.run()\n",
    "\n",
    "\n",
    "solution, solution_fitness, solution_idx = ga_instance.best_solution()\n",
    "\n",
    "#formating to show solved board \n",
    "solution = list(map(int,solution))\n",
    "solution = np.array(list(chunks(solution,len(board))))\n",
    "\n",
    "print(\"Parameters of the best solution :\\n {solution}\".format(solution=solution))\n",
    "print(\"Fitness of best solution = {solution_fitness}\".format(solution_fitness=solution_fitness))\n",
    "print(\"Number of generations = \", ga_instance.generations_completed)\n",
    "\n",
    "ga_instance.plot_fitness()\n",
    "\n",
    "#plotting solved board\n",
    "shoots = []\n",
    "for i,lst in enumerate(solution):\n",
    "    for j,shoot in enumerate(lst):\n",
    "        if shoot == 2:\n",
    "            shoots.append((i,j))\n",
    "            \n",
    "coords = [list(t) for t in zip(*shoots)]\n",
    "plt.imshow(board)\n",
    "plt.scatter(coords[1],coords[0])"
   ]
  },
  {
   "cell_type": "markdown",
   "id": "f016de2f",
   "metadata": {},
   "source": [
    "## Testing"
   ]
  },
  {
   "cell_type": "markdown",
   "id": "367b3730",
   "metadata": {},
   "source": [
    "#### Small board 6x6"
   ]
  },
  {
   "cell_type": "code",
   "execution_count": 23,
   "id": "2da70a0c",
   "metadata": {},
   "outputs": [
    {
     "name": "stdout",
     "output_type": "stream",
     "text": [
      "Efficiency: 100.00%\n",
      "Time: 0.133 sekund\n"
     ]
    }
   ],
   "source": [
    "Sscore2 = 0\n",
    "Stime_score2 = []\n",
    "\n",
    "for i in range(100):\n",
    "    start_time = time.time()\n",
    "    \n",
    "    random_board = rd.randint(0,2)\n",
    "    board = small[random_board]\n",
    "\n",
    "    ########################\n",
    "    gene_space = [2,1]\n",
    "    ships = Counter(chain(*board))[0]\n",
    "\n",
    "    sol_per_pop = 100\n",
    "    num_genes =  len(board)**2 #chromosome is a representation of board so there need to be the same number of genes as cells\n",
    "    num_parents_mating = int(sol_per_pop * 0.3)\n",
    "    num_generations = 50\n",
    "    keep_parents = 2\n",
    "    parent_selection_type = \"sss\"\n",
    "    crossover_type = \"scattered\"\n",
    "    mutation_type = \"random\"\n",
    "    mutation_percent_genes = 3 #only one gene to mutate\n",
    "    stop = ['reach_15000']\n",
    "    fitness_function = fitness_func2\n",
    "    \n",
    "    \n",
    "    ga_instance = pygad.GA(gene_space=gene_space, num_generations=num_generations, \n",
    "                       num_parents_mating=num_parents_mating, fitness_func=fitness_function,\n",
    "                       sol_per_pop=sol_per_pop, num_genes=num_genes, \n",
    "                       parent_selection_type=parent_selection_type, keep_parents=keep_parents, \n",
    "                       crossover_type=crossover_type, mutation_type=mutation_type,\n",
    "                       mutation_percent_genes=mutation_percent_genes,stop_criteria = stop)\n",
    "\n",
    "    \n",
    "    ga_instance.run()\n",
    "    end_time = time.time()\n",
    "\n",
    "    solution, solution_fitness, solution_idx = ga_instance.best_solution()\n",
    "\n",
    "    if solution_fitness == 15000:\n",
    "        Sscore2 +=1\n",
    "        Stime_score2.append(end_time-start_time)\n",
    "\n",
    "\n",
    "print(\"Efficiency: {:.2f}%\".format(Sscore2))\n",
    "print(\"Time: {:.3f} sekund\".format(np.mean(Stime_score2)))"
   ]
  },
  {
   "cell_type": "markdown",
   "id": "7228133a",
   "metadata": {},
   "source": [
    "#### Medium board 10x10"
   ]
  },
  {
   "cell_type": "code",
   "execution_count": 24,
   "id": "4ccca9a8",
   "metadata": {},
   "outputs": [
    {
     "name": "stdout",
     "output_type": "stream",
     "text": [
      "Efficiency: 100.00%\n",
      "Average time: 0.536 sekund\n"
     ]
    }
   ],
   "source": [
    "Mscore2 = 0\n",
    "Mtime_score2 = []\n",
    "\n",
    "for i in range(100):\n",
    "    start_time = time.time()\n",
    "    \n",
    "    random_board = rd.randint(0,2)\n",
    "    board = medium[random_board]\n",
    "\n",
    "    ########################\n",
    "    gene_space = [2,1]\n",
    "    ships = Counter(chain(*board))[0]\n",
    "\n",
    "    sol_per_pop = 120\n",
    "    num_genes =  len(board)**2\n",
    "    num_parents_mating = int(sol_per_pop * 0.3)\n",
    "    num_generations = 100\n",
    "    keep_parents = 2\n",
    "    parent_selection_type = \"sss\"\n",
    "    crossover_type = \"scattered\"\n",
    "    mutation_type = \"random\"\n",
    "    mutation_percent_genes = 1\n",
    "    stop = ['reach_15000']\n",
    "    fitness_function = fitness_func2\n",
    "    \n",
    "    ga_instance = pygad.GA(gene_space=gene_space, num_generations=num_generations, \n",
    "                       num_parents_mating=num_parents_mating, fitness_func=fitness_function,\n",
    "                       sol_per_pop=sol_per_pop, num_genes=num_genes, \n",
    "                       parent_selection_type=parent_selection_type, keep_parents=keep_parents, \n",
    "                       crossover_type=crossover_type, mutation_type=mutation_type,\n",
    "                       mutation_percent_genes=mutation_percent_genes,stop_criteria = stop)\n",
    "\n",
    "    \n",
    "    ga_instance.run()\n",
    "    end_time = time.time()\n",
    "\n",
    "    solution, solution_fitness, solution_idx = ga_instance.best_solution()\n",
    "\n",
    "    if solution_fitness == 15000:\n",
    "        Mscore2 +=1\n",
    "        Mtime_score2.append(end_time-start_time)\n",
    "\n",
    "\n",
    "print(\"Efficiency: {:.2f}%\".format(Mscore2))\n",
    "print(\"Average time: {:.3f} sekund\".format(np.mean(Mtime_score2)))"
   ]
  },
  {
   "cell_type": "markdown",
   "id": "6ac2e2e2",
   "metadata": {},
   "source": [
    "#### Big board 15x15"
   ]
  },
  {
   "cell_type": "code",
   "execution_count": 25,
   "id": "1dd1031f",
   "metadata": {},
   "outputs": [
    {
     "name": "stdout",
     "output_type": "stream",
     "text": [
      "Efficiency: 75.00%\n",
      "Average time: 3.640 sekund\n"
     ]
    }
   ],
   "source": [
    "Bscore2 = 0\n",
    "Btime_score2 = []\n",
    "\n",
    "for i in range(100):\n",
    "    start_time = time.time()\n",
    "    \n",
    "    random_board = rd.randint(0,2)\n",
    "    board = big[random_board]\n",
    "\n",
    "    ########################\n",
    "    gene_space = [2,1]\n",
    "    ships = Counter(chain(*board))[0]\n",
    "    \n",
    "    sol_per_pop = 450\n",
    "    num_genes =  len(board)**2 #ilość pól na planszy\n",
    "    num_parents_mating = int(sol_per_pop * 0.3)\n",
    "    num_generations = 200\n",
    "    keep_parents = 2\n",
    "    parent_selection_type = \"sss\"\n",
    "    crossover_type = \"scattered\"\n",
    "    mutation_type = \"swap\"\n",
    "    mutation_percent_genes = 1\n",
    "    stop = ['reach_15000']\n",
    "    \n",
    "    fitness_function = fitness_func2 \n",
    "    \n",
    "    ga_instance = pygad.GA(gene_space=gene_space, num_generations=num_generations, \n",
    "                       num_parents_mating=num_parents_mating, fitness_func=fitness_function,\n",
    "                       sol_per_pop=sol_per_pop, num_genes=num_genes, \n",
    "                       parent_selection_type=parent_selection_type, keep_parents=keep_parents, \n",
    "                       crossover_type=crossover_type, mutation_type=mutation_type,\n",
    "                       mutation_percent_genes=mutation_percent_genes,stop_criteria = stop)\n",
    "\n",
    "    \n",
    "    ga_instance.run()\n",
    "    end_time = time.time()\n",
    "\n",
    "    solution, solution_fitness, solution_idx = ga_instance.best_solution()\n",
    "\n",
    "    if solution_fitness == 15000:\n",
    "        Bscore2 +=1\n",
    "        Btime_score2.append(end_time-start_time)\n",
    "\n",
    "\n",
    "print(\"Efficiency: {:.2f}%\".format(Bscore2))\n",
    "print(\"Average time: {:.3f} sekund\".format(np.mean(Btime_score2)))"
   ]
  },
  {
   "cell_type": "markdown",
   "id": "c5bb77a0",
   "metadata": {},
   "source": [
    "|Size   | Efficiency  | Time     |\n",
    "|------:|:------------|:---------|\n",
    "| 6x6   | 100.00%     | 0.133s   |\n",
    "| 10x10 | 100.00%     | 0.536s   |\n",
    "| 15x15 | 75.00%      | 3.640s   |"
   ]
  },
  {
   "cell_type": "code",
   "execution_count": 29,
   "id": "3a3bfe4b",
   "metadata": {
    "scrolled": true
   },
   "outputs": [
    {
     "data": {
      "image/png": "[encoded data removed]",
      "text/plain": [
       "<Figure size 432x288 with 1 Axes>"
      ]
     },
     "metadata": {
      "needs_background": "light"
     },
     "output_type": "display_data"
    }
   ],
   "source": [
    "score2 = [1, 1, 0.75]\n",
    "time2 = [0.133, 0.536, 3.640]\n",
    "\n",
    "plt.plot(size, score2, label='Efficiency')\n",
    "plt.plot(size, time2, label='Time')\n",
    "plt.xlabel('Board size')\n",
    "plt.ylabel('Efficiency')\n",
    "plt.title('Efficiency and time depending on board size')\n",
    "plt.legend()\n",
    "plt.show()"
   ]
  },
  {
   "cell_type": "markdown",
   "id": "f6e31bec",
   "metadata": {},
   "source": [
    "This genetic algorithm performance is satisfactory. Similarly to previous one, time increases rapidly for the biggest input but still efficiency of 75% is good enough outcome for 15x15 board."
   ]
  },
  {
   "cell_type": "markdown",
   "id": "d3f02a19",
   "metadata": {},
   "source": [
    "# Comparing algorythms and summary"
   ]
  },
  {
   "cell_type": "markdown",
   "id": "ca37ff4b",
   "metadata": {},
   "source": [
    "|Size| Efficiency | Time |\n",
    "|------:|:---------|:---------|\n",
    "| Fit1 6x6   | 100.00%  | 0.110s   |\n",
    "| Fit2 6x6   | 100.00%  | 0.133s   |\n",
    "| Fit1 10x10 | 98.00%   | 0.773s   |\n",
    "| Fit2 10x10 | 100.00%  | 0.536s   |\n",
    "| Fit1 15x15 | 94.00%   | 4.106s   |\n",
    "| Fit2 15x15 | 75.00%   | 3.640s   |"
   ]
  },
  {
   "cell_type": "code",
   "execution_count": 30,
   "id": "3eab2d79",
   "metadata": {},
   "outputs": [
    {
     "data": {
      "image/png": "[encoded data removed]",
      "text/plain": [
       "<Figure size 432x288 with 1 Axes>"
      ]
     },
     "metadata": {
      "needs_background": "light"
     },
     "output_type": "display_data"
    }
   ],
   "source": [
    "plt.plot(size, score1, label='Fitness 1')\n",
    "plt.plot(size, score2, label='Fitness 2')\n",
    "plt.xlabel('Board size')\n",
    "plt.ylabel('Efficiency')\n",
    "plt.title('Efficiency depending on board size')\n",
    "plt.legend()\n",
    "plt.show()"
   ]
  },
  {
   "cell_type": "code",
   "execution_count": 31,
   "id": "1b592b91",
   "metadata": {},
   "outputs": [
    {
     "data": {
      "image/png": "[encoded data removed]",
      "text/plain": [
       "<Figure size 432x288 with 1 Axes>"
      ]
     },
     "metadata": {
      "needs_background": "light"
     },
     "output_type": "display_data"
    }
   ],
   "source": [
    "plt.plot(size, time1, label='Fitness 1')\n",
    "plt.plot(size, time2, label='Fitness 2')\n",
    "plt.xlabel('Board size')\n",
    "plt.ylabel('Time')\n",
    "plt.title('Time depending on board size')\n",
    "plt.legend()\n",
    "plt.show()"
   ]
  },
  {
   "cell_type": "markdown",
   "id": "945a117b",
   "metadata": {},
   "source": [
    "We can see that first algorithm performs better with bigger inputs compared to the second one. It's probably caused by larger number of genes in chromosome, however it might change if we increase some parameters like population or number of generations. Average solving time for 2nd algorithm is slightly less than for the 1st one for 10x10 and 15x15 inputs. Summing up the two algorithms perform quite similarly, but for inputs bigger than 15x15 the 1st one should be used for better efficiency."
   ]
  },
  {
   "cell_type": "code",
   "execution_count": null,
   "id": "3a0f708b",
   "metadata": {},
   "outputs": [],
   "source": []
  }
 ],
 "metadata": {
  "kernelspec": {
   "display_name": "Python 3 (ipykernel)",
   "language": "python",
   "name": "python3"
  },
  "language_info": {
   "codemirror_mode": {
    "name": "ipython",
    "version": 3
   },
   "file_extension": ".py",
   "mimetype": "text/x-python",
   "name": "python",
   "nbconvert_exporter": "python",
   "pygments_lexer": "ipython3",
   "version": "3.8.12"
  }
 },
 "nbformat": 4,
 "nbformat_minor": 5
}
